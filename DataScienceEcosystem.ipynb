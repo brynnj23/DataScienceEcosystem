{
 "cells": [
  {
   "cell_type": "markdown",
   "id": "74c5482d-8b9e-496e-a234-ff61057e17e8",
   "metadata": {},
   "source": [
    "# Data Science Tools and Ecosystem"
   ]
  },
  {
   "cell_type": "markdown",
   "id": "1bf13086-74d1-46d7-9ca0-69a41aed223e",
   "metadata": {},
   "source": [
    "In this notebook, Data Science Tools and Ecosystems are summarized."
   ]
  },
  {
   "cell_type": "markdown",
   "id": "05d97f23-7cb1-47cc-9bc6-a7af6a2da933",
   "metadata": {},
   "source": [
    "**Objectives:**\n",
    "- List some popular languages in Data Science\n",
    "- Identify commonly used libraries in Data Science\n",
    "- Provide an organized chart with helpful Data Science tools\n",
    "- Provide examples of evaluating arithmetic expressions in Python"
   ]
  },
  {
   "cell_type": "markdown",
   "id": "4fb31b0a-06b3-44f4-91df-794a332d6dc5",
   "metadata": {},
   "source": [
    "Some of the popular languages that Data Scientists use are\n",
    "1. Python\n",
    "2. R\n",
    "3. SQL"
   ]
  },
  {
   "cell_type": "markdown",
   "id": "4f9ae495-c806-4933-aefb-0c2e9df8e948",
   "metadata": {},
   "source": [
    "Some of the commonly used libraries used by Data Scientists include:\n",
    "1. Pandas\n",
    "2. TensorFlow\n",
    "3. Seaborn"
   ]
  },
  {
   "cell_type": "markdown",
   "id": "727aa844-7fe9-424c-9984-36f5c2477466",
   "metadata": {},
   "source": [
    "| Data Science Tools               |\n",
    "|---------------------------------|\n",
    "| Jupyter Notebook                 |\n",
    "| RStudio                          |\n",
    "| Apache Spark    |\n"
   ]
  },
  {
   "cell_type": "markdown",
   "id": "c9444a68-3249-4698-97c3-e13effe9a059",
   "metadata": {},
   "source": [
    "### Below are a few examples of evaluating arithmetic expressions in Python."
   ]
  },
  {
   "cell_type": "code",
   "execution_count": 27,
   "id": "be905c70-fb46-4b9c-a515-3ddb835507fe",
   "metadata": {},
   "outputs": [
    {
     "data": {
      "text/plain": [
       "17"
      ]
     },
     "execution_count": 27,
     "metadata": {},
     "output_type": "execute_result"
    }
   ],
   "source": [
    "# This a simple arithmetic expression to mutiply then add integers\n",
    "(3*4)+5"
   ]
  },
  {
   "cell_type": "code",
   "execution_count": 31,
   "id": "34f64706-d05d-458a-82bf-7fc49e49a475",
   "metadata": {},
   "outputs": [
    {
     "data": {
      "text/plain": [
       "3.3333333333333335"
      ]
     },
     "execution_count": 31,
     "metadata": {},
     "output_type": "execute_result"
    }
   ],
   "source": [
    "# This will convert 200 minutes to hours by diving by 60\n",
    "minutes = 200\n",
    "hours = minutes/60\n",
    "hours"
   ]
  },
  {
   "cell_type": "markdown",
   "id": "d35a80df-f7c6-4f85-86ba-dc1d06c57e8e",
   "metadata": {},
   "source": [
    "## Author\n",
    "Brynn Jacoby"
   ]
  }
 ],
 "metadata": {
  "kernelspec": {
   "display_name": "Python 3 (ipykernel)",
   "language": "python",
   "name": "python3"
  },
  "language_info": {
   "codemirror_mode": {
    "name": "ipython",
    "version": 3
   },
   "file_extension": ".py",
   "mimetype": "text/x-python",
   "name": "python",
   "nbconvert_exporter": "python",
   "pygments_lexer": "ipython3",
   "version": "3.11.7"
  }
 },
 "nbformat": 4,
 "nbformat_minor": 5
}
